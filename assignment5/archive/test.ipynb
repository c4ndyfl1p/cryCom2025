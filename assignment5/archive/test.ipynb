{
 "cells": [
  {
   "cell_type": "code",
   "execution_count": 2,
   "id": "1837e7fd",
   "metadata": {},
   "outputs": [],
   "source": [
    "import hashlib\n",
    "import secrets\n",
    "import random\n",
    "from typing import Tuple, List, Dict, Callable\n",
    "\n",
    "# Security parameter (key length in bits)\n",
    "K = 128"
   ]
  },
  {
   "cell_type": "code",
   "execution_count": null,
   "id": "5bf32b3f",
   "metadata": {},
   "outputs": [],
   "source": [
    "def G(key_a: bytes, key_b: bytes, gate_id: int) -> bytes:\n",
    "    \"\"\"\n",
    "    Pseudorandom generator (PRG) using cryptographic hash.\n",
    "    Takes two keys and gate identifier, outputs a pseudorandom string.\n",
    "    \"\"\"\n",
    "    h = hashlib.sha256()\n",
    "    h.update(key_a)\n",
    "    h.update(key_b)\n",
    "    h.update(gate_id.to_bytes(4, 'big')) \n",
    "    # return h.digest()[:K // 8]\n",
    "    return h.digest() # 32 bytes\n",
    "\n",
    "\n",
    "def generate_random_key() -> bytes:\n",
    "    \"\"\"Generate a random k-bit key.\"\"\"\n",
    "    return secrets.token_bytes(K // 8)\n",
    "\n",
    "\n",
    "def xor_bytes(a: bytes, b: bytes) -> bytes:\n",
    "    \"\"\"XOR two byte strings.\"\"\"\n",
    "    return bytes(x ^ y for x, y in zip(a, b))"
   ]
  },
  {
   "cell_type": "code",
   "execution_count": null,
   "id": "3d1385ea",
   "metadata": {},
   "outputs": [
    {
     "name": "stdout",
     "output_type": "stream",
     "text": [
      "b\"I'\\xbbxP:\\xe7\\x03\\x17U\\x87\\x98\\x84\\xdc\\xcc|\" 16\n",
      "b'e\\xbe\\x91\\x13\\xf9\\xb2\\xbe\\xdeJ\\x80\\xad3\\xdd!\\xca\\x02' 16\n"
     ]
    }
   ],
   "source": []
  },
  {
   "cell_type": "code",
   "execution_count": null,
   "id": "fbac265a",
   "metadata": {},
   "outputs": [],
   "source": [
    "#enc\n",
    "\n",
    "\n",
    "def enc(k_1: bytes, k_2:bytes , gate_number :int, m: bytes) -> bytes:\n",
    "    \"\"\"\n",
    "    Encrypt message m(k_3) using two keys k_1 and k_2, and gate number.\n",
    "    \n",
    "    Args:\n",
    "        k_1: 16-byte key\n",
    "        k_2: 16-byte key\n",
    "        gate_number: Gate identifier\n",
    "        m: 16-byte key\n",
    "    \n",
    "    Returns:\n",
    "        32-byte ciphertext\n",
    "    \"\"\"\n",
    "    c_1 = G(k_1, k_2, gate_number) # 32 bytes\n",
    "    # generate 16 byes of 0s and pad it to message\n",
    "    pad = bytes([0]*16)    \n",
    "    m = m + pad\n",
    "    print(f\"m after padding: {m}, len: {len(m)}\")\n",
    "    c_2 = xor_bytes(c_1, m)\n",
    "    return c_2\n",
    "\n",
    "\n",
    "def dec(k_1: bytes, k_2:bytes , gate_number :int, c: bytes) -> bytes:\n",
    "\n",
    "    c_2 = G(k_1, k_2, gate_number) # 32 bytes\n",
    "    m = xor_bytes(c, c_2)\n",
    "\n",
    "    #if the last 16 bytes are not 0s, then return bot\n",
    "    # else return first 16 bytes \n",
    "    if m[16:] != bytes([0]*16):\n",
    "        raise ValueError(\"Decryption failed: return BOT\")\n",
    "    else:\n",
    "        return m[:16] # return first 16 bytes(that would be the output key)\n",
    "    \n",
    "\n",
    "\n",
    "    pass              \n",
    "    "
   ]
  },
  {
   "cell_type": "code",
   "execution_count": 40,
   "id": "b74b3fde",
   "metadata": {},
   "outputs": [
    {
     "name": "stdout",
     "output_type": "stream",
     "text": [
      "[3, 4, 5]\n"
     ]
    }
   ],
   "source": [
    "a = [1,2,3,4,5]\n",
    "print(a[2:])"
   ]
  },
  {
   "cell_type": "code",
   "execution_count": 54,
   "id": "de1d6f69",
   "metadata": {},
   "outputs": [
    {
     "name": "stdout",
     "output_type": "stream",
     "text": [
      "b'\\xd2\\xc7v\"\\x87\\x05sJ*\\xd9Q%\\x17\\xc3\\x8fP3\\x99&\\xc0y\\x11\\\\!\\xe6\\xc5o\\xafk7\\xf7\\xd1' 32\n",
      "m after padding: b'\\xa9h\\x87\\xe6\\x12\\xfa7\\xd2\\\\X\\x93\\x06\\x0ci\\xda\\xf5\\x00\\x00\\x00\\x00\\x00\\x00\\x00\\x00\\x00\\x00\\x00\\x00\\x00\\x00\\x00\\x00', len: 32\n",
      "b'{\\xaf\\xf1\\xc4\\x95\\xffD\\x98v\\x81\\xc2#\\x1b\\xaaU\\xa53\\x99&\\xc0y\\x11\\\\!\\xe6\\xc5o\\xafk7\\xf7\\xd1' 32\n",
      "===============================\n",
      "b'\\xa9h\\x87\\xe6\\x12\\xfa7\\xd2\\\\X\\x93\\x06\\x0ci\\xda\\xf5' 16\n",
      "True\n"
     ]
    }
   ],
   "source": [
    "\n",
    "k_1 = generate_random_key()\n",
    "k_2 = generate_random_key()\n",
    "m = generate_random_key()\n",
    "\n",
    "c = G(k_1, k_2, 0)\n",
    "\n",
    "print(c, len(c))\n",
    "\n",
    "c = enc(k_1, k_2, 0, m)\n",
    "print(c, len(c))\n",
    "\n",
    "print(\"===============================\")\n",
    "m_decrypted = dec(k_1, k_2, 0, c)\n",
    "print(m_decrypted, len(m_decrypted))\n",
    "\n",
    "#is m_decrypted same as m?\n",
    "print(m == m_decrypted)"
   ]
  }
 ],
 "metadata": {
  "kernelspec": {
   "display_name": ".crycom2025",
   "language": "python",
   "name": "python3"
  },
  "language_info": {
   "codemirror_mode": {
    "name": "ipython",
    "version": 3
   },
   "file_extension": ".py",
   "mimetype": "text/x-python",
   "name": "python",
   "nbconvert_exporter": "python",
   "pygments_lexer": "ipython3",
   "version": "3.12.3"
  }
 },
 "nbformat": 4,
 "nbformat_minor": 5
}
