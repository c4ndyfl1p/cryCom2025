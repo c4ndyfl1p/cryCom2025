{
 "cells": [
  {
   "cell_type": "code",
   "execution_count": null,
   "id": "5cfb5395",
   "metadata": {},
   "outputs": [
    {
     "name": "stdout",
     "output_type": "stream",
     "text": [
      "m=9, m2=9, equal? True\n"
     ]
    }
   ],
   "source": [
    "import random\n",
    "from typing import Tuple  # for Python < 3.9\n",
    "\n",
    "PublicKey = tuple[int, int, int, int]  # or Tuple[int, int, int, int]\n",
    "Ciphertext = tuple[int, int]           # or Tuple[int, int]\n",
    "GroupDescription = Tuple[int, int, int]  # or Tuple[int, int, int]\n",
    "\n",
    "def elgamal_safe_GGen():\n",
    "    # hardcoding a safe group\n",
    "    p = 11\n",
    "    q = 5\n",
    "    r = 2\n",
    "    #choose x randomly from 1... q-1\n",
    "    g = 3 # generator of G, hardcoding it\n",
    "    return p, q, g\n",
    "\n",
    "def elgamal_Gen(G:GroupDescription)-> Tuple[PublicKey, int]:\n",
    "    p, q, g = G\n",
    "    x = random.randint(1, q - 1)\n",
    "    h = pow(g, x, p)  # y = g^x mod p\n",
    "    pk = (p, q, g, h)\n",
    "    sk = x\n",
    "    return pk, sk\n",
    "\n",
    "def elgamal_OGen(G:GroupDescription, r)-> Tuple[PublicKey, int]:\n",
    "    p, q, g = G\n",
    "    if r < q-1 and r>0:\n",
    "        h = pow(g, r, p)  # y = g^x mod p\n",
    "    else:\n",
    "        raise ValueError(\"r should be in the range 1 to q-1\")\n",
    "    \n",
    "    return (p, q, g, h), r\n",
    "\n",
    "def encode_message(msg, G: GroupDescription) -> int:\n",
    "    \"\"\" need to map 1's and 0s to group elements \"\"\"\n",
    "    if msg == 0:\n",
    "        return 1\n",
    "    elif msg == 1:\n",
    "        return G[2]  # g\n",
    "    \n",
    "\n",
    "def elgamal_Enc(pk:PublicKey, m:int)-> Ciphertext:\n",
    "    p,q, g, h = pk\n",
    "    # choose y randomly from 1... q-1\n",
    "    y = random.randint(1, q-1)\n",
    "    s = pow(h, y, p)  # a = g^k mod p\n",
    "    c1 = pow(g, y, p)\n",
    "    c2 = (m * s) % p\n",
    "    c = c1, c2\n",
    "    return c\n",
    "\n",
    "def elgamal_Dec(c: Ciphertext, sk:int, pk:PublicKey) -> int:\n",
    "    # 1. s: = c\n",
    "    s = pow(c[0], sk, pk[0])  # s = c1^x mod p\n",
    "    # 2. compute s^-1 mod p\n",
    "    s_inv = pow(s, -1, pk[0])  # modular inverse of\n",
    "    # 3. m = c2 * s^-1 mod p\n",
    "    m = (c[1] * s_inv) % pk[0]\n",
    "    return m\n",
    "\n",
    "\n",
    "m = 9\n",
    "G = elgamal_safe_GGen()\n",
    "pk, sk = elgamal_Gen(G)\n",
    "c = elgamal_Enc(pk, m)\n",
    "m2 = elgamal_Dec(c, sk, pk)\n",
    "print(f\"m={m}, m2={m2}, equal? {m==m2}\")\n"
   ]
  },
  {
   "cell_type": "code",
   "execution_count": null,
   "id": "d446ee70",
   "metadata": {},
   "outputs": [],
   "source": []
  }
 ],
 "metadata": {
  "kernelspec": {
   "display_name": ".crycom2025",
   "language": "python",
   "name": "python3"
  },
  "language_info": {
   "codemirror_mode": {
    "name": "ipython",
    "version": 3
   },
   "file_extension": ".py",
   "mimetype": "text/x-python",
   "name": "python",
   "nbconvert_exporter": "python",
   "pygments_lexer": "ipython3",
   "version": "3.12.3"
  }
 },
 "nbformat": 4,
 "nbformat_minor": 5
}
