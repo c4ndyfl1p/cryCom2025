{
 "cells": [
  {
   "cell_type": "code",
   "execution_count": 49,
   "id": "afcbd3bc",
   "metadata": {},
   "outputs": [
    {
     "name": "stdout",
     "output_type": "stream",
     "text": [
      "Alice input:\n",
      "1\n",
      "Bob input:\n",
      "0\n"
     ]
    }
   ],
   "source": [
    "import random\n",
    "\n",
    "Alice_input = 1  # Alice's input bit\n",
    "Bob_input = 0    # Bob's input bit\n",
    "\n",
    "# Making the Shares\n",
    "def share(secret: int) -> tuple[int, int]:\n",
    "    # Secret share a bit 'secret' between Alice and Bob.\n",
    "    x_b = random.randint(0, 1)  # Bob's share\n",
    "    x_a = secret ^ x_b           # Alice's share\n",
    "    return (x_a, x_b)\n",
    "\n",
    "# Reconstructing the secret from shares\n",
    "def reconstruct(share: tuple[int, int]) -> int:\n",
    "    # Reconstruct the bit from a sharing [x] = (xA, xB).\n",
    "    x_a, x_b = share\n",
    "    return x_a ^ x_b\n",
    "\n",
    "alice_share = share(Alice_input)\n",
    "bob_share = share(Bob_input)\n",
    "print(\"Alice input:\")\n",
    "print(Alice_input)\n",
    "print(\"Bob input:\")\n",
    "print(Bob_input)"
   ]
  },
  {
   "cell_type": "code",
   "execution_count": null,
   "id": "5560df8e",
   "metadata": {},
   "outputs": [
    {
     "name": "stdout",
     "output_type": "stream",
     "text": [
      "1\n",
      "0\n",
      "1\n",
      "0\n",
      "1\n"
     ]
    }
   ],
   "source": [
    "# Individual Gates\n",
    "def xor_const(share: tuple[int, int], const: int) -> tuple[int, int]:\n",
    "    # const = 1 is the NOT gate\n",
    "    x_a, x_b = share\n",
    "    z_a = x_a ^ const\n",
    "    z_b = x_b\n",
    "    return (z_a, z_b)\n",
    "\n",
    "print(reconstruct(xor_const(alice_share, 0)))\n",
    "print(reconstruct(xor_const(bob_share, 0)))\n",
    "\n",
    "def and_const(share: tuple[int, int], const: int) -> tuple[int, int]:\n",
    "    # const = 0, zeros the gate\n",
    "    x_a, x_b = share\n",
    "    z_a = const * x_a\n",
    "    z_b = const * x_b\n",
    "    return (z_a, z_b)\n",
    "\n",
    "print(reconstruct(and_const(alice_share, 1)))\n",
    "print(reconstruct(and_const(bob_share, 1)))\n",
    "\n",
    "# Two-Wire Gates\n",
    "def xor_gate(share1: tuple[int, int], share2: tuple[int, int]) -> tuple[int, int]:\n",
    "    x_a, x_b = share1\n",
    "    y_a, y_b = share2\n",
    "    z_a = x_a ^ y_a\n",
    "    z_b = x_b ^ y_b\n",
    "    return (z_a, z_b)\n",
    "\n",
    "print(reconstruct(xor_gate(alice_share, bob_share)))  # Expected output: 0\n"
   ]
  },
  {
   "cell_type": "code",
   "execution_count": 50,
   "id": "2c52629d",
   "metadata": {},
   "outputs": [
    {
     "name": "stdout",
     "output_type": "stream",
     "text": [
      "0\n"
     ]
    }
   ],
   "source": [
    "# Dealer Gates\n",
    "def dealer() -> tuple[tuple[int, int], tuple[int, int], tuple[int, int]]:\n",
    "    # Dealer provides random bits u, v, w such that w = u * v\n",
    "    u = random.randint(0, 1)\n",
    "    v = random.randint(0, 1)\n",
    "    w = u * v\n",
    "    return share(u), share(v), share(w)\n",
    "\n",
    "def and_gate(share1: tuple[int, int], share2: tuple[int, int]) -> int:\n",
    "    # u, v, w are from the dealer\n",
    "    (x_a, x_b), (y_a, y_b) = share1, share2\n",
    "    (u_a, u_b), (v_a, v_b), (w_a, w_b) = dealer()\n",
    "\n",
    "    d = xor_gate((x_a, x_b), (u_a, u_b))\n",
    "    e = xor_gate((y_a, y_b), (v_a, v_b))\n",
    "\n",
    "    # d and e become public\n",
    "    d = reconstruct(d)\n",
    "    e = reconstruct(e)\n",
    "\n",
    "    z_a = w_a ^ (e * x_a) ^ (d * y_a) ^ (d * e)\n",
    "    z_b = w_b ^ (e * x_b) ^ (d * y_b)\n",
    "    return (z_a, z_b)\n",
    "\n",
    "print(reconstruct(and_gate(alice_share, bob_share)))"
   ]
  }
 ],
 "metadata": {
  "kernelspec": {
   "display_name": "Python 3",
   "language": "python",
   "name": "python3"
  },
  "language_info": {
   "codemirror_mode": {
    "name": "ipython",
    "version": 3
   },
   "file_extension": ".py",
   "mimetype": "text/x-python",
   "name": "python",
   "nbconvert_exporter": "python",
   "pygments_lexer": "ipython3",
   "version": "3.11.1"
  }
 },
 "nbformat": 4,
 "nbformat_minor": 5
}
