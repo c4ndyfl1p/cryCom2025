{
 "cells": [
  {
   "cell_type": "code",
   "execution_count": 43,
   "id": "c47f6f92",
   "metadata": {},
   "outputs": [
    {
     "name": "stdout",
     "output_type": "stream",
     "text": [
      "hello world\n"
     ]
    }
   ],
   "source": [
    "import random\n",
    "import pprint\n",
    "print(\"hello world\")"
   ]
  },
  {
   "cell_type": "code",
   "execution_count": 8,
   "id": "2777b387",
   "metadata": {},
   "outputs": [],
   "source": [
    "# define encoding for blood types\n",
    "blood_type_encoding = {\n",
    "    'o-': 0,\n",
    "    'o+': 1,\n",
    "    'a-': 2,\n",
    "    'a+': 3,\n",
    "    'b-': 4,\n",
    "    'b+': 5,\n",
    "    'ab-': 6,\n",
    "    'ab+': 7\n",
    "}"
   ]
  },
  {
   "cell_type": "code",
   "execution_count": null,
   "id": "47f44e5b",
   "metadata": {},
   "outputs": [],
   "source": [
    "#       Donor: o- o+ a- a+ b- b+ ab- ab+\n",
    "truth_table = [[1,0,0,0,0,0,0,0],  # o-  recipients\n",
    "               [1,1,0,0,0,0,0,0],  # o+\n",
    "               [1,0,1,0,0,0,0,0],  # a-\n",
    "               [1,1,1,1,0,0,0,0],  # a+\n",
    "               [1,0,0,0,1,0,0,0],  # b-\n",
    "               [1,1,0,0,1,1,0,0],  # b+\n",
    "               [1,0,1,0,1,0,1,0],  # ab-\n",
    "               [1,1,1,1,1,1,1,1]]  # ab+\n",
    "\n",
    "def can_donate(donor, recipient):\n",
    "    donor_index = blood_type_encoding[donor]\n",
    "    recipient_index = blood_type_encoding[recipient]\n",
    "    return truth_table[recipient_index][donor_index]\n",
    "\n",
    "can_donate('o+', 'ab-') # Example usage\n",
    "\n",
    "r =0\n",
    "s=2\n",
    "\n",
    "def permute_truth_table(truth_table, r, s):\n",
    "    # permute truth table by r and\n",
    "    \n",
    "    T_perm = [[0 for _ in range(2**n)] for _ in range(2**n)]\n",
    "    # pprint.pprint(T_perm)\n",
    "\n",
    "\n",
    "    for i in range(0, 2**n):\n",
    "        for j in range(0, 2**n):\n",
    "            k= truth_table[(i-r) % 2**n][(j-s) % 2**n]\n",
    "            # print(k)\n",
    "            T_perm[i][j] = k\n",
    "    \n",
    "    return T_perm\n",
    "\n",
    "\n",
    "\n"
   ]
  },
  {
   "cell_type": "code",
   "execution_count": 14,
   "id": "1fc365b3",
   "metadata": {},
   "outputs": [
    {
     "data": {
      "text/plain": [
       "0"
      ]
     },
     "execution_count": 14,
     "metadata": {},
     "output_type": "execute_result"
    }
   ],
   "source": [
    "#testing stuff\n",
    "truth_table[1][0]\n",
    "donor = blood_type_encoding['o+']\n",
    "receiver = blood_type_encoding['b+']\n",
    "\n",
    "truth_table[receiver][donor]\n",
    "blood_type_encoding['o-']"
   ]
  },
  {
   "cell_type": "code",
   "execution_count": 99,
   "id": "6608269e",
   "metadata": {},
   "outputs": [
    {
     "name": "stdout",
     "output_type": "stream",
     "text": [
      "M_b:\n",
      "[[1, 0, 0, 0, 0, 1, 0, 1],\n",
      " [0, 1, 0, 1, 1, 1, 1, 0],\n",
      " [0, 0, 1, 0, 1, 1, 0, 1],\n",
      " [0, 0, 1, 1, 1, 1, 0, 0],\n",
      " [1, 1, 1, 1, 0, 1, 0, 0],\n",
      " [1, 0, 1, 0, 1, 0, 0, 1],\n",
      " [1, 1, 0, 0, 1, 0, 1, 1],\n",
      " [0, 0, 0, 1, 1, 1, 0, 0]]\n",
      "T_perm:\n",
      "[[0, 1, 0, 1, 0, 1, 0, 1],\n",
      " [1, 1, 1, 1, 1, 1, 1, 1],\n",
      " [0, 0, 0, 0, 0, 0, 0, 1],\n",
      " [1, 0, 0, 0, 0, 0, 0, 1],\n",
      " [0, 1, 0, 0, 0, 0, 0, 1],\n",
      " [1, 1, 1, 0, 0, 0, 0, 1],\n",
      " [0, 0, 0, 1, 0, 0, 0, 1],\n",
      " [1, 0, 0, 1, 1, 0, 0, 1]]\n",
      "M_a:\n",
      "[[1, 1, 0, 1, 0, 0, 0, 0],\n",
      " [1, 0, 1, 0, 0, 0, 0, 1],\n",
      " [0, 0, 1, 0, 1, 1, 0, 0],\n",
      " [1, 0, 1, 1, 1, 1, 0, 1],\n",
      " [1, 0, 1, 1, 0, 1, 0, 1],\n",
      " [0, 1, 0, 0, 1, 0, 0, 0],\n",
      " [1, 1, 0, 1, 1, 0, 1, 0],\n",
      " [1, 0, 0, 0, 0, 1, 0, 1]]\n"
     ]
    }
   ],
   "source": [
    "# actions of the dealer:\n",
    "n = 3\n",
    "\n",
    "r = random.randint(0, 2**n - 1) # 1. (r)_2 in {0,1}^n OR (r)_10 in {0,...,2^n-1}\n",
    "s = random.randint(0, 2**n - 1) # 1. (s)_2 in {0,1}^n OR (s)_10 in {0,...,2^n-1}\n",
    "\n",
    "M_b = [[random.randint(0, 1) for _ in range(2**n)] for _ in range(2**n)] # 2. M_b in {0,1}^{2^n * 2^n}\n",
    "# pretty print M_b\n",
    "print(\"M_b:\")\n",
    "pprint.pprint(M_b)\n",
    "\n",
    "\n",
    "\n",
    "\n",
    "\n",
    "# print(\"r:\", r, \"s:\", s)\n",
    "\n",
    "T_perm = permute_truth_table(truth_table, r, s)\n",
    "print(\"T_perm:\")\n",
    "pprint.pprint(T_perm)\n",
    "\n",
    "def xor_tperm_rm(t_perm:list[list[int]], M_b:list[list[int]])-> list[list[int]]:\n",
    "    # permute truth table by r and\n",
    "    \n",
    "    M_a = [[0 for _ in range(2**n)] for _ in range(2**n)]\n",
    "    # pprint.pprint(T_perm)\n",
    "\n",
    "\n",
    "    for i in range(0, 2**n):\n",
    "        for j in range(0, 2**n):\n",
    "            k= t_perm[i][j] ^ M_b[i][j]\n",
    "            # print(k)\n",
    "            M_a[i][j] = k\n",
    "    \n",
    "    return M_a\n",
    "\n",
    "M_a = xor_tperm_rm(T_perm, M_b)\n",
    "\n",
    "print(\"M_a:\")\n",
    "pprint.pprint(M_a)"
   ]
  },
  {
   "cell_type": "code",
   "execution_count": 123,
   "id": "a33d4bc9",
   "metadata": {},
   "outputs": [
    {
     "name": "stdout",
     "output_type": "stream",
     "text": [
      "can o+ donate to ab+? 0\n",
      "z: 0\n"
     ]
    }
   ],
   "source": [
    "# Alice recieves (r, M_a) and Bob recieves (s, M_b)\n",
    "x_string = 'b-' # Alice's blood type ( reciever type)\n",
    "y_string = 'a+' # Bob's blood type (donor type)\n",
    "\n",
    "x = blood_type_encoding[x_string] # Alice's blood type\n",
    "y = blood_type_encoding[y_string] # Bob's blood type\n",
    "\n",
    "u = (x + r) % 2**n\n",
    "\n",
    "\n",
    "v = (y + s) % 2**n\n",
    "\n",
    "z_b = M_b[u][v]\n",
    "\n",
    "# bob sends (v, z_b) to alice\n",
    "\n",
    "# alice computes z_a = M_a[u][v] xor z_b\n",
    "z = M_a[u][v] ^ z_b\n",
    "\n",
    "# Alice is the donor and Bob is the recipient\n",
    " \n",
    "print(\"can o+ donate to ab+?\", can_donate(donor=y_string, recipient=x_string) )\n",
    "\n",
    "print(\"z:\", z) # z = 1 if Alice can donate to Bob, else 0"
   ]
  }
 ],
 "metadata": {
  "kernelspec": {
   "display_name": ".crycom2025",
   "language": "python",
   "name": "python3"
  },
  "language_info": {
   "codemirror_mode": {
    "name": "ipython",
    "version": 3
   },
   "file_extension": ".py",
   "mimetype": "text/x-python",
   "name": "python",
   "nbconvert_exporter": "python",
   "pygments_lexer": "ipython3",
   "version": "3.12.3"
  }
 },
 "nbformat": 4,
 "nbformat_minor": 5
}
