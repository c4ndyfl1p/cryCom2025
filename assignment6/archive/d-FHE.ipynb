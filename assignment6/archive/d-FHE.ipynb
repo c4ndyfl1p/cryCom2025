{
 "cells": [
  {
   "cell_type": "code",
   "execution_count": null,
   "id": "513c1641",
   "metadata": {},
   "outputs": [
    {
     "ename": "TypeError",
     "evalue": "write() argument must be str, not bytes",
     "output_type": "error",
     "traceback": [
      "\u001b[31m---------------------------------------------------------------------------\u001b[39m",
      "\u001b[31mTypeError\u001b[39m                                 Traceback (most recent call last)",
      "\u001b[36mCell\u001b[39m\u001b[36m \u001b[39m\u001b[32mIn[5]\u001b[39m\u001b[32m, line 36\u001b[39m\n\u001b[32m     33\u001b[39m r = \u001b[32m60\u001b[39m\n\u001b[32m     34\u001b[39m n = \u001b[32m2000\u001b[39m  \u001b[38;5;66;03m# number of public key elements\u001b[39;00m\n\u001b[32m---> \u001b[39m\u001b[32m36\u001b[39m secret_key = \u001b[43mFHE_keygen\u001b[49m\u001b[43m(\u001b[49m\u001b[43mp_bits\u001b[49m\u001b[43m,\u001b[49m\u001b[43m \u001b[49m\u001b[43mq_bits\u001b[49m\u001b[43m,\u001b[49m\u001b[43m \u001b[49m\u001b[43mr\u001b[49m\u001b[43m,\u001b[49m\u001b[43m \u001b[49m\u001b[43mn\u001b[49m\u001b[43m)\u001b[49m\n",
      "\u001b[36mCell\u001b[39m\u001b[36m \u001b[39m\u001b[32mIn[3]\u001b[39m\u001b[32m, line 21\u001b[39m, in \u001b[36mFHE_keygen\u001b[39m\u001b[34m(p_bits, q_bits, r_bits, n)\u001b[39m\n\u001b[32m     19\u001b[39m         \u001b[38;5;66;03m# compute yi = p * qi + 2 * ri\u001b[39;00m\n\u001b[32m     20\u001b[39m         yi = p * qi + \u001b[32m2\u001b[39m * ri\n\u001b[32m---> \u001b[39m\u001b[32m21\u001b[39m         \u001b[43mpickle\u001b[49m\u001b[43m.\u001b[49m\u001b[43mdump\u001b[49m\u001b[43m(\u001b[49m\u001b[43myi\u001b[49m\u001b[43m,\u001b[49m\u001b[43m \u001b[49m\u001b[43mpk_file\u001b[49m\u001b[43m)\u001b[49m\n\u001b[32m     23\u001b[39m \u001b[38;5;28;01mreturn\u001b[39;00m p\n",
      "\u001b[31mTypeError\u001b[39m: write() argument must be str, not bytes"
     ]
    }
   ],
   "source": [
    "#Key Generation: choose a big secret odd integer p. Choose big random integers q1, . . . , qn and small integers r1, . . . , rn. The secret key is p, the public key is (y1, . . . , yn) where yi = p · qi + 2ri\n",
    "import secrets\n",
    "import pickle\n",
    "import gmpy2\n",
    "\n",
    "def FHE_keygen(p_bits, q_bits, r_bits, n, pub_key_file):\n",
    "    \"\"\"\n",
    "    Generate d-HE / FHE keys with gmpy2 for big integers and pickle for storage.\n",
    "    Saves the public key (yi values) to a file, returns the secret key p.\n",
    "    \"\"\"\n",
    "    # Secret key: big odd integer\n",
    "    p = gmpy2.mpz(secrets.randbits(p_bits) | 1)\n",
    "\n",
    "    # Open file in binary write mode\n",
    "    with open(pub_key_file, \"wb\") as f:\n",
    "        # Generate and store each yi\n",
    "        for _ in range(n):\n",
    "            qi = gmpy2.mpz(secrets.randbits(q_bits))\n",
    "            ri = gmpy2.mpz(secrets.randbits(r_bits))\n",
    "            \n",
    "            # Compute yi = p * qi + 2 * ri\n",
    "            yi = p * qi + 2 * ri\n",
    "            \n",
    "            # Save yi immediately using pickle (streaming)\n",
    "            pickle.dump(yi, f)\n",
    "\n",
    "    return p\n",
    "\n",
    "\n",
    "# Example usage\n",
    "p_bits = 2000  # size of secret key p in bits\n",
    "q_bits = 10**3  # size of big random integers qi in bits\n",
    "r = 60\n",
    "n = 2000  # number of public key elements\n",
    "\n",
    "secret_key = FHE_keygen(p_bits, q_bits, r, n, pubkeyFile=\"FHE_pubkey.pkl\")\n",
    "\n",
    "\n",
    "\n"
   ]
  },
  {
   "cell_type": "code",
   "execution_count": 6,
   "id": "75dee7ad",
   "metadata": {},
   "outputs": [
    {
     "name": "stdout",
     "output_type": "stream",
     "text": [
      "Secret Key (p): 53823512663238095064962704233278956291050217829563972857839202405054840100496316172694417651259654639511813132354276006686464726951206683873568066701040767611671675288184893528291836028944817616292726825302041339651924364628526233536464774409528570280363813789910888962605514909816929777541400755967483047693411033802807436272515131467707687448515572241441224804228110972024602001875919733350785460066820778101756209495185886542816558915095364969014834424264839975810617429553951688871697454059132554213054994107526437218772685065981086726487660011470467752846594287668735564686688133001535153159001637\n"
     ]
    }
   ],
   "source": [
    "print(\"Secret Key (p):\", secret_key)\n",
    "# print(\"Public Key sample (first 5 yi's):\", public_key[0])\n",
    "# print(\"Total yi values:\", len(public_key))"
   ]
  }
 ],
 "metadata": {
  "kernelspec": {
   "display_name": ".crycom2025",
   "language": "python",
   "name": "python3"
  },
  "language_info": {
   "codemirror_mode": {
    "name": "ipython",
    "version": 3
   },
   "file_extension": ".py",
   "mimetype": "text/x-python",
   "name": "python",
   "nbconvert_exporter": "python",
   "pygments_lexer": "ipython3",
   "version": "3.12.3"
  }
 },
 "nbformat": 4,
 "nbformat_minor": 5
}
